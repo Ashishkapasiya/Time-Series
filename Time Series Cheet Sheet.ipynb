{
 "cells": [
  {
   "cell_type": "markdown",
   "metadata": {},
   "source": [
    "### Time Series Cheat Sheet"
   ]
  },
  {
   "cell_type": "markdown",
   "metadata": {},
   "source": [
    "This cheat sheet demonstrates 11 different classical time series forecasting methods; they are:\n",
    "\n",
    "Autoregression (AR) <br>\n",
    "Moving Average (MA) <br>\n",
    "Autoregressive Moving Average (ARMA) <br>\n",
    "Autoregressive Integrated Moving Average (ARIMA) <br>\n",
    "Seasonal Autoregressive Integrated Moving-Average (SARIMA) <br>\n",
    "Seasonal Autoregressive Integrated Moving-Average with Exogenous Regressors (SARIMAX) <br>\n",
    "Vector Autoregression (VAR) <br>\n",
    "Vector Autoregression Moving-Average (VARMA) <br>\n",
    "Vector Autoregression Moving-Average with Exogenous Regressors (VARMAX) <br>\n",
    "Simple Exponential Smoothing (SES) <br>\n",
    "Holt Winter’s Exponential Smoothing (HWES) <br>\n",
    "\n",
    "<b>For detailed study on these topics, go to statsmodel.org or wikipedia."
   ]
  },
  {
   "cell_type": "markdown",
   "metadata": {},
   "source": [
    "#### Autoregression (AR)\n",
    "The autoregression (AR) method models the next step in the sequence as a linear function of the observations at prior time steps.\n",
    "\n",
    "The notation for the model involves specifying the order of the model p as a parameter to the AR function, e.g. AR(p). For example, AR(1) is a first-order autoregression model.\n",
    "\n",
    "The method is suitable for univariate time series without trend and seasonal components."
   ]
  },
  {
   "cell_type": "code",
   "execution_count": 1,
   "metadata": {},
   "outputs": [
    {
     "name": "stdout",
     "output_type": "stream",
     "text": [
      "[100.34446363]\n"
     ]
    }
   ],
   "source": [
    "# AR example\n",
    "from statsmodels.tsa.ar_model import AutoReg\n",
    "from random import random\n",
    "# contrived dataset\n",
    "data = [x + random() for x in range(1, 100)]\n",
    "# fit model\n",
    "model = AutoReg(data, lags=1)\n",
    "model_fit = model.fit()\n",
    "# make prediction\n",
    "yhat = model_fit.predict(len(data), len(data))\n",
    "print(yhat)"
   ]
  },
  {
   "cell_type": "markdown",
   "metadata": {},
   "source": [
    "#### Moving Average (MA)\n",
    "The moving average (MA) method models the next step in the sequence as a linear function of the residual errors from a mean process at prior time steps.\n",
    "\n",
    "A moving average model is different from calculating the moving average of the time series.\n",
    "\n",
    "The notation for the model involves specifying the order of the model q as a parameter to the MA function, e.g. MA(q). For example, MA(1) is a first-order moving average model.\n",
    "\n",
    "The method is suitable for univariate time series without trend and seasonal components."
   ]
  },
  {
   "cell_type": "code",
   "execution_count": 2,
   "metadata": {},
   "outputs": [
    {
     "name": "stdout",
     "output_type": "stream",
     "text": [
      "[77.98749462]\n"
     ]
    }
   ],
   "source": [
    "# MA example\n",
    "from statsmodels.tsa.arima_model import ARMA\n",
    "from random import random\n",
    "# contrived dataset\n",
    "data = [x + random() for x in range(1, 100)]\n",
    "# fit model\n",
    "model = ARMA(data, order=(0, 1))\n",
    "model_fit = model.fit(disp=False)\n",
    "# make prediction\n",
    "yhat = model_fit.predict(len(data), len(data))\n",
    "print(yhat)"
   ]
  },
  {
   "cell_type": "markdown",
   "metadata": {},
   "source": [
    "#### Autoregressive Moving Average (ARMA)\n",
    "The Autoregressive Moving Average (ARMA) method models the next step in the sequence as a linear function of the observations and resiudal errors at prior time steps.\n",
    "\n",
    "It combines both Autoregression (AR) and Moving Average (MA) models.\n",
    "\n",
    "The notation for the model involves specifying the order for the AR(p) and MA(q) models as parameters to an ARMA function, e.g. ARMA(p, q). An ARIMA model can be used to develop AR or MA models.\n",
    "\n",
    "The method is suitable for univariate time series without trend and seasonal components."
   ]
  },
  {
   "cell_type": "code",
   "execution_count": 3,
   "metadata": {},
   "outputs": [
    {
     "name": "stdout",
     "output_type": "stream",
     "text": [
      "[0.45488606]\n"
     ]
    }
   ],
   "source": [
    "# ARMA example\n",
    "from statsmodels.tsa.arima_model import ARMA\n",
    "from random import random\n",
    "# contrived dataset\n",
    "data = [random() for x in range(1, 100)]\n",
    "# fit model\n",
    "model = ARMA(data, order=(2, 1))\n",
    "model_fit = model.fit(disp=False)\n",
    "# make prediction\n",
    "yhat = model_fit.predict(len(data), len(data))\n",
    "print(yhat)"
   ]
  },
  {
   "cell_type": "markdown",
   "metadata": {},
   "source": [
    "#### Autoregressive Integrated Moving Average (ARIMA)\n",
    "The Autoregressive Integrated Moving Average (ARIMA) method models the next step in the sequence as a linear function of the differenced observations and residual errors at prior time steps.\n",
    "\n",
    "It combines both Autoregression (AR) and Moving Average (MA) models as well as a differencing pre-processing step of the sequence to make the sequence stationary, called integration (I).\n",
    "\n",
    "The notation for the model involves specifying the order for the AR(p), I(d), and MA(q) models as parameters to an ARIMA function, e.g. ARIMA(p, d, q). An ARIMA model can also be used to develop AR, MA, and ARMA models.\n",
    "\n",
    "The method is suitable for univariate time series with trend and without seasonal components."
   ]
  },
  {
   "cell_type": "code",
   "execution_count": 20,
   "metadata": {},
   "outputs": [
    {
     "name": "stdout",
     "output_type": "stream",
     "text": [
      "[100.41305067]\n"
     ]
    }
   ],
   "source": [
    "# ARIMA example\n",
    "from statsmodels.tsa.arima_model import ARIMA\n",
    "from random import random\n",
    "# contrived dataset\n",
    "data = [x + random() for x in range(1, 100)]\n",
    "# fit model\n",
    "model = ARIMA(data, order=(1, 1, 1))\n",
    "model_fit = model.fit(disp=False)\n",
    "# make prediction\n",
    "yhat = model_fit.predict(len(data), len(data), typ='levels')\n",
    "print(yhat)"
   ]
  },
  {
   "cell_type": "markdown",
   "metadata": {},
   "source": [
    "#### Seasonal Autoregressive Integrated Moving-Average (SARIMA)\n",
    "The Seasonal Autoregressive Integrated Moving Average (SARIMA) method models the next step in the sequence as a linear function of the differenced observations, errors, differenced seasonal observations, and seasonal errors at prior time steps.\n",
    "\n",
    "It combines the ARIMA model with the ability to perform the same autoregression, differencing, and moving average modeling at the seasonal level.\n",
    "\n",
    "The notation for the model involves specifying the order for the AR(p), I(d), and MA(q) models as parameters to an ARIMA function and AR(P), I(D), MA(Q) and m parameters at the seasonal level, e.g. SARIMA(p, d, q)(P, D, Q)m where “m” is the number of time steps in each season (the seasonal period). A SARIMA model can be used to develop AR, MA, ARMA and ARIMA models.\n",
    "\n",
    "The method is suitable for univariate time series with trend and/or seasonal components."
   ]
  },
  {
   "cell_type": "code",
   "execution_count": 41,
   "metadata": {},
   "outputs": [
    {
     "name": "stdout",
     "output_type": "stream",
     "text": [
      "[100.42710794]\n"
     ]
    }
   ],
   "source": [
    "# SARIMA example\n",
    "from statsmodels.tsa.statespace.sarimax import SARIMAX\n",
    "from random import random\n",
    "# contrived dataset\n",
    "data = [x + random() for x in range(1, 100)]\n",
    "# fit model\n",
    "model = SARIMAX(data, order=(1, 1, 1), seasonal_order=(1, 1, 1, 5))\n",
    "model_fit = model.fit(disp=False)\n",
    "# make prediction\n",
    "yhat = model_fit.predict(len(data), len(data))\n",
    "print(yhat)"
   ]
  },
  {
   "cell_type": "markdown",
   "metadata": {},
   "source": [
    "#### Seasonal Autoregressive Integrated Moving-Average with Exogenous Regressors (SARIMAX)\n",
    "The Seasonal Autoregressive Integrated Moving-Average with Exogenous Regressors (SARIMAX) is an extension of the SARIMA model that also includes the modeling of exogenous variables.\n",
    "\n",
    "Exogenous variables are also called covariates and can be thought of as parallel input sequences that have observations at the same time steps as the original series. The primary series may be referred to as endogenous data to contrast it from the exogenous sequence(s). The observations for exogenous variables are included in the model directly at each time step and are not modeled in the same way as the primary endogenous sequence (e.g. as an AR, MA, etc. process).\n",
    "\n",
    "The SARIMAX method can also be used to model the subsumed models with exogenous variables, such as ARX, MAX, ARMAX, and ARIMAX.\n",
    "\n",
    "The method is suitable for univariate time series with trend and/or seasonal components and exogenous variables."
   ]
  },
  {
   "cell_type": "code",
   "execution_count": 21,
   "metadata": {},
   "outputs": [
    {
     "name": "stdout",
     "output_type": "stream",
     "text": [
      "[100.42186197]\n"
     ]
    }
   ],
   "source": [
    "# SARIMAX example\n",
    "from statsmodels.tsa.statespace.sarimax import SARIMAX\n",
    "from random import random\n",
    "# contrived dataset\n",
    "data1 = [x + random() for x in range(1, 100)]\n",
    "data2 = [x + random() for x in range(101, 200)]\n",
    "# fit model\n",
    "model = SARIMAX(data1, exog=data2, order=(1, 1, 1), seasonal_order=(0, 0, 0, 0))\n",
    "model_fit = model.fit(disp=False)\n",
    "# make prediction\n",
    "exog2 = [200 + random()]\n",
    "yhat = model_fit.predict(len(data1), len(data1), exog=[exog2])\n",
    "print(yhat)"
   ]
  },
  {
   "cell_type": "markdown",
   "metadata": {},
   "source": [
    "#### Vector Autoregression (VAR)\n",
    "\n",
    "The Vector Autoregression (VAR) method models the next step in each time series using an AR model. It is the generalization of AR to multiple parallel time series, e.g. multivariate time series.<br>\n",
    "\n",
    "The notation for the model involves specifying the order for the AR(p) model as parameters to a VAR function, e.g. VAR(p).<br>\n",
    "\n",
    "The method is suitable for multivariate time series without trend and seasonal components."
   ]
  },
  {
   "cell_type": "code",
   "execution_count": 16,
   "metadata": {},
   "outputs": [],
   "source": [
    "from statsmodels.tsa.vector_ar.var_model import VAR\n",
    "from random import random\n",
    "# contrived dataset with dependency\n",
    "data = list()\n",
    "for i in range(100):\n",
    "    v1 = i + random()\n",
    "    v2 = v1 + random()\n",
    "    row = [v1, v2]\n",
    "    data.append(row)\n",
    "# fit model\n",
    "model = VAR(data)\n",
    "model_fit = model.fit()\n",
    "# make prediction\n",
    "yhat = model_fit.forecast(model_fit.y, steps=5)\n",
    "print(yhat)"
   ]
  },
  {
   "cell_type": "markdown",
   "metadata": {},
   "source": [
    "#### Vector Autoregression Moving-Average (VARMA)\n",
    "The Vector Autoregression Moving-Average (VARMA) method models the next step in each time series using an ARMA model. It is the generalization of ARMA to multiple parallel time series, e.g. multivariate time series.\n",
    "\n",
    "The notation for the model involves specifying the order for the AR(p) and MA(q) models as parameters to a VARMA function, e.g. VARMA(p, q). A VARMA model can also be used to develop VAR or VMA models.\n",
    "\n",
    "The method is suitable for multivariate time series without trend and seasonal components."
   ]
  },
  {
   "cell_type": "code",
   "execution_count": 22,
   "metadata": {},
   "outputs": [
    {
     "name": "stderr",
     "output_type": "stream",
     "text": [
      "C:\\Users\\HP\\anaconda3\\lib\\site-packages\\statsmodels\\tsa\\statespace\\varmax.py:163: EstimationWarning: Estimation of VARMA(p,q) models is not generically robust, due especially to identification issues.\n",
      "  EstimationWarning)\n",
      "C:\\Users\\HP\\anaconda3\\lib\\site-packages\\statsmodels\\base\\model.py:568: ConvergenceWarning: Maximum Likelihood optimization failed to converge. Check mle_retvals\n",
      "  \"Check mle_retvals\", ConvergenceWarning)\n",
      "C:\\Users\\HP\\anaconda3\\lib\\site-packages\\statsmodels\\tsa\\statespace\\varmax.py:163: EstimationWarning: Estimation of VARMA(p,q) models is not generically robust, due especially to identification issues.\n",
      "  EstimationWarning)\n"
     ]
    },
    {
     "name": "stdout",
     "output_type": "stream",
     "text": [
      "[[0.49653325 1.12872692]]\n"
     ]
    }
   ],
   "source": [
    "# VARMA example\n",
    "from statsmodels.tsa.statespace.varmax import VARMAX\n",
    "from random import random\n",
    "# contrived dataset with dependency\n",
    "data = list()\n",
    "for i in range(100):\n",
    "    v1 = random()\n",
    "    v2 = v1 + random()\n",
    "    row = [v1, v2]\n",
    "    data.append(row)\n",
    "# fit model\n",
    "model = VARMAX(data, order=(1, 1))\n",
    "model_fit = model.fit(disp=False)\n",
    "# make prediction\n",
    "yhat = model_fit.forecast()\n",
    "print(yhat)"
   ]
  },
  {
   "cell_type": "markdown",
   "metadata": {},
   "source": [
    "#### Vector Autoregression Moving-Average with Exogenous Regressors (VARMAX)\n",
    "The Vector Autoregression Moving-Average with Exogenous Regressors (VARMAX) is an extension of the VARMA model that also includes the modeling of exogenous variables. It is a multivariate version of the ARMAX method.\n",
    "\n",
    "Exogenous variables are also called covariates and can be thought of as parallel input sequences that have observations at the same time steps as the original series. The primary series(es) are referred to as endogenous data to contrast it from the exogenous sequence(s). The observations for exogenous variables are included in the model directly at each time step and are not modeled in the same way as the primary endogenous sequence (e.g. as an AR, MA, etc. process).\n",
    "\n",
    "The VARMAX method can also be used to model the subsumed models with exogenous variables, such as VARX and VMAX.\n",
    "\n",
    "The method is suitable for multivariate time series without trend and seasonal components with exogenous variables."
   ]
  },
  {
   "cell_type": "code",
   "execution_count": 35,
   "metadata": {},
   "outputs": [
    {
     "name": "stderr",
     "output_type": "stream",
     "text": [
      "C:\\Users\\HP\\anaconda3\\lib\\site-packages\\statsmodels\\tsa\\statespace\\varmax.py:163: EstimationWarning: Estimation of VARMA(p,q) models is not generically robust, due especially to identification issues.\n",
      "  EstimationWarning)\n"
     ]
    },
    {
     "name": "stdout",
     "output_type": "stream",
     "text": [
      "[[0.57007006 1.09423612]\n",
      " [0.53183393 1.03761137]\n",
      " [0.5300261  1.03090456]\n",
      " [0.53112677 1.03196082]\n",
      " [0.53200172 1.03334656]]\n"
     ]
    },
    {
     "name": "stderr",
     "output_type": "stream",
     "text": [
      "C:\\Users\\HP\\anaconda3\\lib\\site-packages\\statsmodels\\tsa\\statespace\\varmax.py:163: EstimationWarning: Estimation of VARMA(p,q) models is not generically robust, due especially to identification issues.\n",
      "  EstimationWarning)\n",
      "C:\\Users\\HP\\anaconda3\\lib\\site-packages\\statsmodels\\tsa\\statespace\\varmax.py:163: EstimationWarning: Estimation of VARMA(p,q) models is not generically robust, due especially to identification issues.\n",
      "  EstimationWarning)\n"
     ]
    }
   ],
   "source": [
    "# VARMAX example\n",
    "from statsmodels.tsa.statespace.varmax import VARMAX\n",
    "from random import random\n",
    "# contrived dataset with dependency\n",
    "data = list()\n",
    "for i in range(100):\n",
    "    v1 = random()\n",
    "    v2 = v1 + random()\n",
    "    row = [v1, v2]\n",
    "    data.append(row)\n",
    "data_exog = [x + random() for x in range(100)]\n",
    "# fit model\n",
    "model = VARMAX(data, exog=data_exog, order=(1, 1))\n",
    "model_fit = model.fit(disp=False)\n",
    "# make prediction\n",
    "data_exog2 = [[100,101,102,103,104]]\n",
    "yhat = model_fit.forecast(exog=data_exog2, steps = 5)\n",
    "print(yhat)"
   ]
  },
  {
   "cell_type": "markdown",
   "metadata": {},
   "source": [
    "#### Simple Exponential Smoothing (SES)\n",
    "The Simple Exponential Smoothing (SES) method models the next time step as an exponentially weighted linear function of observations at prior time steps.\n",
    "\n",
    "The method is suitable for univariate time series without trend and seasonal components."
   ]
  },
  {
   "cell_type": "code",
   "execution_count": 37,
   "metadata": {},
   "outputs": [
    {
     "name": "stdout",
     "output_type": "stream",
     "text": [
      "[99.83816545]\n"
     ]
    }
   ],
   "source": [
    "# SES example\n",
    "from statsmodels.tsa.holtwinters import SimpleExpSmoothing\n",
    "from random import random\n",
    "# contrived dataset\n",
    "data = [x + random() for x in range(1, 100)]\n",
    "# fit model\n",
    "model = SimpleExpSmoothing(data)\n",
    "model_fit = model.fit()\n",
    "# make prediction\n",
    "yhat = model_fit.predict(len(data), len(data))\n",
    "print(yhat)"
   ]
  },
  {
   "cell_type": "markdown",
   "metadata": {},
   "source": [
    "#### Holt Winter’s Exponential Smoothing (HWES)\n",
    "The Holt Winter’s Exponential Smoothing (HWES) also called the Triple Exponential Smoothing method models the next time step as an exponentially weighted linear function of observations at prior time steps, taking trends and seasonality into account.\n",
    "\n",
    "The method is suitable for univariate time series with trend and/or seasonal components."
   ]
  },
  {
   "cell_type": "code",
   "execution_count": 38,
   "metadata": {},
   "outputs": [
    {
     "name": "stdout",
     "output_type": "stream",
     "text": [
      "[99.63814211]\n"
     ]
    }
   ],
   "source": [
    "# HWES example\n",
    "from statsmodels.tsa.holtwinters import ExponentialSmoothing\n",
    "from random import random\n",
    "# contrived dataset\n",
    "data = [x + random() for x in range(1, 100)]\n",
    "# fit model\n",
    "model = ExponentialSmoothing(data)\n",
    "model_fit = model.fit()\n",
    "# make prediction\n",
    "yhat = model_fit.predict(len(data), len(data))\n",
    "print(yhat)"
   ]
  }
 ],
 "metadata": {
  "kernelspec": {
   "display_name": "Python 3",
   "language": "python",
   "name": "python3"
  },
  "language_info": {
   "codemirror_mode": {
    "name": "ipython",
    "version": 3
   },
   "file_extension": ".py",
   "mimetype": "text/x-python",
   "name": "python",
   "nbconvert_exporter": "python",
   "pygments_lexer": "ipython3",
   "version": "3.7.6"
  }
 },
 "nbformat": 4,
 "nbformat_minor": 4
}
